{
 "cells": [
  {
   "cell_type": "markdown",
   "id": "e06910dd",
   "metadata": {
    "id": "e06910dd"
   },
   "source": [
    "# Изучение рынка заведений общественного питания Москвы\n",
    "\n",
    "- Автор: Косарева Алина\n",
    "- Дата: 04.07 - 06.07.2025"
   ]
  },
  {
   "cell_type": "markdown",
   "id": "4149134c",
   "metadata": {
    "id": "4149134c"
   },
   "source": [
    "### Цели и задачи проекта\n",
    "\n",
    "Цель: провести исследовательский анализ рынка заведений общественного питания в Москве для выявления ключевых трендов, которые помогут инвесторам разработать оптимальную концепцию нового заведения.\n",
    "\n",
    "Необходимо понять:\n",
    "\n",
    "- какие форматы заведений наиболее популярны,\n",
    "- в каких районах города наблюдается наибольшая концентрация точек,\n",
    "- какие категории получают высокие оценки от пользователей,\n",
    "- как связаны между собой такие параметры, как рейтинг, количество посадочных мест, цена и принадлежность к сети\n",
    "\n",
    "Задачи:\n",
    "\n",
    "1. Ознакомиться с данными (просмотреть данные из двух датасетов, проверить их объём, пропуски и корректность типов, объединить таблицы)\n",
    "2. Предобработка данных (привести данные к нужным типам, обработать пропуски, убрать дубликаты, создать новый столбец is_24_7)\n",
    "3. Исследовательский анализ (определить категори заведений, изучить расположение, выявить сетевые заведения, изучить кол-во посадочных мест, оценить рейтинги заведений, изучить корреляции данных, выявить топ-15 сетей и их средние рейтинги, сравнить средние чеки мест)\n",
    "4. Сформировать выводы и рекомендации по работе"
   ]
  },
  {
   "cell_type": "markdown",
   "id": "728986ea",
   "metadata": {
    "id": "728986ea"
   },
   "source": [
    "### Описание данных\n",
    "\n",
    "Данные состоят из двух датасетов:\n",
    "\n",
    "- `rest_info.csv` — информация о заведениях общественного питания;\n",
    "- `rest_price.csv` — информация о среднем чеке в заведениях общественного питания.\n",
    "\n",
    "Описание датасета `rest_info`:\n",
    "\n",
    "- `name` — название заведения;\n",
    "- `address` — адрес заведения;\n",
    "- `district` — административный район, в котором находится заведение, например Центральный административный округ;\n",
    "- `category` — категория заведения, например «кафе», «пиццерия» или «кофейня»;\n",
    "- `hours` — информация о днях и часах работы;\n",
    "- `rating` — рейтинг заведения по оценкам пользователей в Яндекс Картах (высшая оценка — 5.0);\n",
    "- `chain` — число, выраженное 0 или 1, которое показывает, является ли заведение сетевым (для маленьких сетей могут встречаться ошибки):\n",
    "`0` — заведение не является сетевым;\n",
    "`1` — заведение является сетевым.\n",
    "- `seats` — количество посадочных мест.\n",
    "\n",
    "Описание датасета `rest_price`:\n",
    "\n",
    "- `price` — категория цен в заведении, например «средние», «ниже среднего», «выше среднего» и так далее;\n",
    "- `avg_bill` — строка, которая хранит среднюю стоимость заказа в виде диапазона, например:\n",
    "«Средний счёт: 1000–1500 ₽»;\n",
    "«Цена чашки капучино: 130–220 ₽»;\n",
    "«Цена бокала пива: 400–600 ₽».\n",
    "и так далее;\n",
    "- `middle_avg_bill` — число с оценкой среднего чека, которое указано только для значений из столбца avg_bill, начинающихся с подстроки «Средний счёт»:\n",
    "Если в строке указан ценовой диапазон из двух значений, в столбец войдёт медиана этих двух значений.\n",
    "Если в строке указано одно число — цена без диапазона, то в столбец войдёт это число.\n",
    "Если значения нет или оно не начинается с подстроки «Средний счёт», то в столбец ничего не войдёт.\n",
    "- `middle_coffee_cup` — число с оценкой одной чашки капучино, которое указано только для значений из столбца avg_bill, начинающихся с подстроки «Цена одной чашки капучино»:\n",
    "Если в строке указан ценовой диапазон из двух значений, в столбец войдёт медиана этих двух значений.\n",
    "Если в строке указано одно число — цена без диапазона, то в столбец войдёт это число.\n",
    "Если значения нет или оно не начинается с подстроки «Цена одной чашки капучино», то в столбец ничего не войдёт."
   ]
  },
  {
   "cell_type": "markdown",
   "id": "4fecaf95",
   "metadata": {
    "id": "4fecaf95"
   },
   "source": [
    "### Содержимое проекта\n",
    "\n",
    "1. Загрузка данных и знакомство с ними.\n",
    "2. Предобработка данных.\n",
    "3. Исследовательский анализ данных.\n",
    "4. Итоговые выводы."
   ]
  },
  {
   "cell_type": "markdown",
   "id": "6f7d21d6",
   "metadata": {
    "id": "6f7d21d6"
   },
   "source": [
    "## 1. Загрузка данных и знакомство с ними\n",
    "\n",
    "- Загрузите данные о заведениях общественного питания Москвы. Путь к файлам: `/datasets/rest_info.csv` и `/datasets/rest_price.csv`."
   ]
  },
  {
   "cell_type": "code",
   "execution_count": 1,
   "id": "05faf34b",
   "metadata": {
    "id": "05faf34b"
   },
   "outputs": [
    {
     "name": "stdout",
     "output_type": "stream",
     "text": [
      "Collecting phik\n",
      "  Downloading phik-0.12.4-cp39-cp39-manylinux_2_17_x86_64.manylinux2014_x86_64.whl (686 kB)\n",
      "\u001b[K     |████████████████████████████████| 686 kB 2.3 MB/s eta 0:00:01\n",
      "\u001b[?25hRequirement already satisfied: scipy>=1.5.2 in /opt/conda/lib/python3.9/site-packages (from phik) (1.9.1)\n",
      "Requirement already satisfied: joblib>=0.14.1 in /opt/conda/lib/python3.9/site-packages (from phik) (1.1.0)\n",
      "Requirement already satisfied: pandas>=0.25.1 in /opt/conda/lib/python3.9/site-packages (from phik) (1.2.4)\n",
      "Requirement already satisfied: numpy>=1.18.0 in /opt/conda/lib/python3.9/site-packages (from phik) (1.21.1)\n",
      "Requirement already satisfied: matplotlib>=2.2.3 in /opt/conda/lib/python3.9/site-packages (from phik) (3.3.4)\n",
      "Requirement already satisfied: python-dateutil>=2.1 in /opt/conda/lib/python3.9/site-packages (from matplotlib>=2.2.3->phik) (2.8.1)\n",
      "Requirement already satisfied: kiwisolver>=1.0.1 in /opt/conda/lib/python3.9/site-packages (from matplotlib>=2.2.3->phik) (1.4.4)\n",
      "Requirement already satisfied: cycler>=0.10 in /opt/conda/lib/python3.9/site-packages (from matplotlib>=2.2.3->phik) (0.11.0)\n",
      "Requirement already satisfied: pillow>=6.2.0 in /opt/conda/lib/python3.9/site-packages (from matplotlib>=2.2.3->phik) (8.4.0)\n",
      "Requirement already satisfied: pyparsing!=2.0.4,!=2.1.2,!=2.1.6,>=2.0.3 in /opt/conda/lib/python3.9/site-packages (from matplotlib>=2.2.3->phik) (2.4.7)\n",
      "Requirement already satisfied: pytz>=2017.3 in /opt/conda/lib/python3.9/site-packages (from pandas>=0.25.1->phik) (2021.1)\n",
      "Requirement already satisfied: six>=1.5 in /opt/conda/lib/python3.9/site-packages (from python-dateutil>=2.1->matplotlib>=2.2.3->phik) (1.16.0)\n",
      "Installing collected packages: phik\n",
      "Successfully installed phik-0.12.4\n"
     ]
    }
   ],
   "source": [
    "import pandas as pd\n",
    "\n",
    "import matplotlib.pyplot as plt\n",
    "import seaborn as sns\n",
    "\n",
    "!pip install phik\n",
    "from phik import phik_matrix"
   ]
  },
  {
   "cell_type": "code",
   "execution_count": 2,
   "id": "ce87c1db",
   "metadata": {
    "id": "ce87c1db"
   },
   "outputs": [],
   "source": [
    "df_rest = pd.read_csv('/datasets/rest_info.csv')\n",
    "df_price = pd.read_csv('/datasets/rest_price.csv')"
   ]
  },
  {
   "cell_type": "markdown",
   "id": "41cf1130",
   "metadata": {},
   "source": [
    "Предварительное ознакомление с датасетом `df_rest`:"
   ]
  },
  {
   "cell_type": "code",
   "execution_count": 3,
   "id": "f68a7419",
   "metadata": {
    "id": "f68a7419"
   },
   "outputs": [
    {
     "name": "stdout",
     "output_type": "stream",
     "text": [
      "<class 'pandas.core.frame.DataFrame'>\n",
      "RangeIndex: 8406 entries, 0 to 8405\n",
      "Data columns (total 9 columns):\n",
      " #   Column    Non-Null Count  Dtype  \n",
      "---  ------    --------------  -----  \n",
      " 0   id        8406 non-null   object \n",
      " 1   name      8406 non-null   object \n",
      " 2   category  8406 non-null   object \n",
      " 3   address   8406 non-null   object \n",
      " 4   district  8406 non-null   object \n",
      " 5   hours     7870 non-null   object \n",
      " 6   rating    8406 non-null   float64\n",
      " 7   chain     8406 non-null   int64  \n",
      " 8   seats     4795 non-null   float64\n",
      "dtypes: float64(2), int64(1), object(6)\n",
      "memory usage: 591.2+ KB\n"
     ]
    },
    {
     "data": {
      "text/html": [
       "<div>\n",
       "<style scoped>\n",
       "    .dataframe tbody tr th:only-of-type {\n",
       "        vertical-align: middle;\n",
       "    }\n",
       "\n",
       "    .dataframe tbody tr th {\n",
       "        vertical-align: top;\n",
       "    }\n",
       "\n",
       "    .dataframe thead th {\n",
       "        text-align: right;\n",
       "    }\n",
       "</style>\n",
       "<table border=\"1\" class=\"dataframe\">\n",
       "  <thead>\n",
       "    <tr style=\"text-align: right;\">\n",
       "      <th></th>\n",
       "      <th>id</th>\n",
       "      <th>name</th>\n",
       "      <th>category</th>\n",
       "      <th>address</th>\n",
       "      <th>district</th>\n",
       "      <th>hours</th>\n",
       "      <th>rating</th>\n",
       "      <th>chain</th>\n",
       "      <th>seats</th>\n",
       "    </tr>\n",
       "  </thead>\n",
       "  <tbody>\n",
       "    <tr>\n",
       "      <th>0</th>\n",
       "      <td>0c3e3439a8c64ea5bf6ecd6ca6ae19f0</td>\n",
       "      <td>WoWфли</td>\n",
       "      <td>кафе</td>\n",
       "      <td>Москва, улица Дыбенко, 7/1</td>\n",
       "      <td>Северный административный округ</td>\n",
       "      <td>ежедневно, 10:00–22:00</td>\n",
       "      <td>5.0</td>\n",
       "      <td>0</td>\n",
       "      <td>NaN</td>\n",
       "    </tr>\n",
       "    <tr>\n",
       "      <th>1</th>\n",
       "      <td>045780ada3474c57a2112e505d74b633</td>\n",
       "      <td>Четыре комнаты</td>\n",
       "      <td>ресторан</td>\n",
       "      <td>Москва, улица Дыбенко, 36, корп. 1</td>\n",
       "      <td>Северный административный округ</td>\n",
       "      <td>ежедневно, 10:00–22:00</td>\n",
       "      <td>4.5</td>\n",
       "      <td>0</td>\n",
       "      <td>4.0</td>\n",
       "    </tr>\n",
       "    <tr>\n",
       "      <th>2</th>\n",
       "      <td>1070b6b59144425896c65889347fcff6</td>\n",
       "      <td>Хазри</td>\n",
       "      <td>кафе</td>\n",
       "      <td>Москва, Клязьминская улица, 15</td>\n",
       "      <td>Северный административный округ</td>\n",
       "      <td>пн-чт 11:00–02:00; пт,сб 11:00–05:00; вс 11:00...</td>\n",
       "      <td>4.6</td>\n",
       "      <td>0</td>\n",
       "      <td>45.0</td>\n",
       "    </tr>\n",
       "  </tbody>\n",
       "</table>\n",
       "</div>"
      ],
      "text/plain": [
       "                                 id            name  category  \\\n",
       "0  0c3e3439a8c64ea5bf6ecd6ca6ae19f0          WoWфли      кафе   \n",
       "1  045780ada3474c57a2112e505d74b633  Четыре комнаты  ресторан   \n",
       "2  1070b6b59144425896c65889347fcff6           Хазри      кафе   \n",
       "\n",
       "                              address                         district  \\\n",
       "0          Москва, улица Дыбенко, 7/1  Северный административный округ   \n",
       "1  Москва, улица Дыбенко, 36, корп. 1  Северный административный округ   \n",
       "2      Москва, Клязьминская улица, 15  Северный административный округ   \n",
       "\n",
       "                                               hours  rating  chain  seats  \n",
       "0                             ежедневно, 10:00–22:00     5.0      0    NaN  \n",
       "1                             ежедневно, 10:00–22:00     4.5      0    4.0  \n",
       "2  пн-чт 11:00–02:00; пт,сб 11:00–05:00; вс 11:00...     4.6      0   45.0  "
      ]
     },
     "execution_count": 3,
     "metadata": {},
     "output_type": "execute_result"
    }
   ],
   "source": [
    "df_rest.info()\n",
    "df_rest.shape\n",
    "df_rest.head(3)"
   ]
  },
  {
   "cell_type": "markdown",
   "id": "ccba415e",
   "metadata": {},
   "source": [
    "Предварительное ознакомление с датасетом `df_price`"
   ]
  },
  {
   "cell_type": "code",
   "execution_count": 4,
   "id": "3158ad37",
   "metadata": {
    "id": "3158ad37"
   },
   "outputs": [
    {
     "name": "stdout",
     "output_type": "stream",
     "text": [
      "<class 'pandas.core.frame.DataFrame'>\n",
      "RangeIndex: 4058 entries, 0 to 4057\n",
      "Data columns (total 5 columns):\n",
      " #   Column             Non-Null Count  Dtype  \n",
      "---  ------             --------------  -----  \n",
      " 0   id                 4058 non-null   object \n",
      " 1   price              3315 non-null   object \n",
      " 2   avg_bill           3816 non-null   object \n",
      " 3   middle_avg_bill    3149 non-null   float64\n",
      " 4   middle_coffee_cup  535 non-null    float64\n",
      "dtypes: float64(2), object(3)\n",
      "memory usage: 158.6+ KB\n"
     ]
    },
    {
     "data": {
      "text/html": [
       "<div>\n",
       "<style scoped>\n",
       "    .dataframe tbody tr th:only-of-type {\n",
       "        vertical-align: middle;\n",
       "    }\n",
       "\n",
       "    .dataframe tbody tr th {\n",
       "        vertical-align: top;\n",
       "    }\n",
       "\n",
       "    .dataframe thead th {\n",
       "        text-align: right;\n",
       "    }\n",
       "</style>\n",
       "<table border=\"1\" class=\"dataframe\">\n",
       "  <thead>\n",
       "    <tr style=\"text-align: right;\">\n",
       "      <th></th>\n",
       "      <th>id</th>\n",
       "      <th>price</th>\n",
       "      <th>avg_bill</th>\n",
       "      <th>middle_avg_bill</th>\n",
       "      <th>middle_coffee_cup</th>\n",
       "    </tr>\n",
       "  </thead>\n",
       "  <tbody>\n",
       "    <tr>\n",
       "      <th>0</th>\n",
       "      <td>045780ada3474c57a2112e505d74b633</td>\n",
       "      <td>выше среднего</td>\n",
       "      <td>Средний счёт:1500–1600 ₽</td>\n",
       "      <td>1550.0</td>\n",
       "      <td>NaN</td>\n",
       "    </tr>\n",
       "    <tr>\n",
       "      <th>1</th>\n",
       "      <td>1070b6b59144425896c65889347fcff6</td>\n",
       "      <td>средние</td>\n",
       "      <td>Средний счёт:от 1000 ₽</td>\n",
       "      <td>1000.0</td>\n",
       "      <td>NaN</td>\n",
       "    </tr>\n",
       "    <tr>\n",
       "      <th>2</th>\n",
       "      <td>03ac7cd772104f65b58b349dc59f03ee</td>\n",
       "      <td>NaN</td>\n",
       "      <td>Цена чашки капучино:155–185 ₽</td>\n",
       "      <td>NaN</td>\n",
       "      <td>170.0</td>\n",
       "    </tr>\n",
       "  </tbody>\n",
       "</table>\n",
       "</div>"
      ],
      "text/plain": [
       "                                 id          price  \\\n",
       "0  045780ada3474c57a2112e505d74b633  выше среднего   \n",
       "1  1070b6b59144425896c65889347fcff6        средние   \n",
       "2  03ac7cd772104f65b58b349dc59f03ee            NaN   \n",
       "\n",
       "                        avg_bill  middle_avg_bill  middle_coffee_cup  \n",
       "0       Средний счёт:1500–1600 ₽           1550.0                NaN  \n",
       "1         Средний счёт:от 1000 ₽           1000.0                NaN  \n",
       "2  Цена чашки капучино:155–185 ₽              NaN              170.0  "
      ]
     },
     "execution_count": 4,
     "metadata": {},
     "output_type": "execute_result"
    }
   ],
   "source": [
    "df_price.info()\n",
    "df_price.shape\n",
    "df_price.head(3)"
   ]
  },
  {
   "cell_type": "markdown",
   "id": "2c614a62",
   "metadata": {
    "id": "2c614a62"
   },
   "source": [
    "---\n",
    "\n",
    "### Промежуточный вывод\n"
   ]
  },
  {
   "cell_type": "markdown",
   "id": "b7631fa6",
   "metadata": {
    "id": "3593b7d5"
   },
   "source": [
    "1. В работе два датасета: `df_rest` (содержит 8406 строк и информацию о заведениях) и `df_price` (содержит 4058 строк с данными о ценах и среднем чеке).\n",
    "\n",
    "\n",
    "2. Форматы данных в целом соответствуют описанию. Критичных проблем с типами не обнаружено: в `df_rest` можно дополнительно привести `seats` к целому числу, а `category` и `district` — к категориальному типу.\n",
    "\n",
    "\n",
    "3. Пропуски есть в обоих датасетах:\n",
    "\n",
    "- В `df_rest` больше всего пропусков в столбцах `hours` и `seats`.\n",
    "- В `df_price` особенно много пропусков в `middle_coffee_cup`.\n",
    "\n",
    "4. Особенности для дальнейшей работы:\n",
    "\n",
    "- Данные о ценах есть только у части заведений — это стоит учесть при анализе.\n",
    "- Столбец `hours` требует отдельного анализа для выделения признака круглосуточности."
   ]
  },
  {
   "cell_type": "markdown",
   "id": "8a8d1491",
   "metadata": {
    "id": "8a8d1491"
   },
   "source": [
    "### Подготовка единого датафрейма\n",
    "\n"
   ]
  },
  {
   "cell_type": "code",
   "execution_count": 5,
   "id": "3408e303",
   "metadata": {
    "id": "3408e303"
   },
   "outputs": [
    {
     "name": "stdout",
     "output_type": "stream",
     "text": [
      "<class 'pandas.core.frame.DataFrame'>\n",
      "Int64Index: 8406 entries, 0 to 8405\n",
      "Data columns (total 13 columns):\n",
      " #   Column             Non-Null Count  Dtype  \n",
      "---  ------             --------------  -----  \n",
      " 0   id                 8406 non-null   object \n",
      " 1   name               8406 non-null   object \n",
      " 2   category           8406 non-null   object \n",
      " 3   address            8406 non-null   object \n",
      " 4   district           8406 non-null   object \n",
      " 5   hours              7870 non-null   object \n",
      " 6   rating             8406 non-null   float64\n",
      " 7   chain              8406 non-null   int64  \n",
      " 8   seats              4795 non-null   float64\n",
      " 9   price              3315 non-null   object \n",
      " 10  avg_bill           3816 non-null   object \n",
      " 11  middle_avg_bill    3149 non-null   float64\n",
      " 12  middle_coffee_cup  535 non-null    float64\n",
      "dtypes: float64(4), int64(1), object(8)\n",
      "memory usage: 919.4+ KB\n"
     ]
    }
   ],
   "source": [
    "df = df_rest.merge(df_price, how='left', on='id')\n",
    "df.info()"
   ]
  },
  {
   "cell_type": "markdown",
   "id": "956e82e2",
   "metadata": {
    "id": "956e82e2"
   },
   "source": [
    "## 2. Предобработка данных\n"
   ]
  },
  {
   "cell_type": "markdown",
   "id": "179abed9",
   "metadata": {
    "id": "67956690"
   },
   "source": [
    "Приводим столбцы `district` и `category` к категоральному типу, а `seats` - к целочисленному. "
   ]
  },
  {
   "cell_type": "code",
   "execution_count": 6,
   "id": "b5f2a94d",
   "metadata": {
    "id": "b5f2a94d"
   },
   "outputs": [
    {
     "data": {
      "text/plain": [
       "id                     object\n",
       "name                   object\n",
       "category             category\n",
       "address                object\n",
       "district             category\n",
       "hours                  object\n",
       "rating                float64\n",
       "chain                   int64\n",
       "seats                   Int64\n",
       "price                  object\n",
       "avg_bill               object\n",
       "middle_avg_bill       float64\n",
       "middle_coffee_cup     float64\n",
       "dtype: object"
      ]
     },
     "execution_count": 6,
     "metadata": {},
     "output_type": "execute_result"
    }
   ],
   "source": [
    "df['district'] = df['district'].astype('category')\n",
    "df['category'] = df['category'].astype('category')\n",
    "df['seats'] = df['seats'].astype('Int64')\n",
    "\n",
    "df.dtypes"
   ]
  },
  {
   "cell_type": "code",
   "execution_count": 7,
   "id": "3d8840ca",
   "metadata": {
    "id": "3d8840ca"
   },
   "outputs": [
    {
     "name": "stdout",
     "output_type": "stream",
     "text": [
      "Всего пропущенных значений:26956\n",
      "Процент пропущенных значений: 24.67%\n"
     ]
    }
   ],
   "source": [
    "print(f\"Всего пропущенных значений:{df.isna().sum().sum()}\")\n",
    "\n",
    "total_cells = df.shape[0] * df.shape[1]\n",
    "total_missing = df.isna().sum().sum()\n",
    "missing_percent = total_missing / total_cells * 100\n",
    "\n",
    "print(f\"Процент пропущенных значений: {missing_percent:.2f}%\")"
   ]
  },
  {
   "cell_type": "code",
   "execution_count": 8,
   "id": "2ea145ca",
   "metadata": {
    "id": "2ea145ca"
   },
   "outputs": [
    {
     "data": {
      "text/html": [
       "<style  type=\"text/css\" >\n",
       "#T_931ea_row0_col0{\n",
       "            background-color:  #b40426;\n",
       "            color:  #f1f1f1;\n",
       "        }#T_931ea_row1_col0{\n",
       "            background-color:  #f7b89c;\n",
       "            color:  #000000;\n",
       "        }#T_931ea_row2_col0{\n",
       "            background-color:  #f6bea4;\n",
       "            color:  #000000;\n",
       "        }#T_931ea_row3_col0{\n",
       "            background-color:  #efcebd;\n",
       "            color:  #000000;\n",
       "        }#T_931ea_row4_col0{\n",
       "            background-color:  #d2dbe8;\n",
       "            color:  #000000;\n",
       "        }#T_931ea_row5_col0{\n",
       "            background-color:  #4f69d9;\n",
       "            color:  #000000;\n",
       "        }#T_931ea_row6_col0,#T_931ea_row7_col0,#T_931ea_row8_col0,#T_931ea_row9_col0,#T_931ea_row10_col0,#T_931ea_row11_col0,#T_931ea_row12_col0{\n",
       "            background-color:  #3b4cc0;\n",
       "            color:  #f1f1f1;\n",
       "        }</style><table id=\"T_931ea_\" ><thead>    <tr>        <th class=\"blank level0\" ></th>        <th class=\"col_heading level0 col0\" >missing_%</th>    </tr></thead><tbody>\n",
       "                <tr>\n",
       "                        <th id=\"T_931ea_level0_row0\" class=\"row_heading level0 row0\" >middle_coffee_cup</th>\n",
       "                        <td id=\"T_931ea_row0_col0\" class=\"data row0 col0\" >93.640000</td>\n",
       "            </tr>\n",
       "            <tr>\n",
       "                        <th id=\"T_931ea_level0_row1\" class=\"row_heading level0 row1\" >middle_avg_bill</th>\n",
       "                        <td id=\"T_931ea_row1_col0\" class=\"data row1 col0\" >62.540000</td>\n",
       "            </tr>\n",
       "            <tr>\n",
       "                        <th id=\"T_931ea_level0_row2\" class=\"row_heading level0 row2\" >price</th>\n",
       "                        <td id=\"T_931ea_row2_col0\" class=\"data row2 col0\" >60.560000</td>\n",
       "            </tr>\n",
       "            <tr>\n",
       "                        <th id=\"T_931ea_level0_row3\" class=\"row_heading level0 row3\" >avg_bill</th>\n",
       "                        <td id=\"T_931ea_row3_col0\" class=\"data row3 col0\" >54.600000</td>\n",
       "            </tr>\n",
       "            <tr>\n",
       "                        <th id=\"T_931ea_level0_row4\" class=\"row_heading level0 row4\" >seats</th>\n",
       "                        <td id=\"T_931ea_row4_col0\" class=\"data row4 col0\" >42.960000</td>\n",
       "            </tr>\n",
       "            <tr>\n",
       "                        <th id=\"T_931ea_level0_row5\" class=\"row_heading level0 row5\" >hours</th>\n",
       "                        <td id=\"T_931ea_row5_col0\" class=\"data row5 col0\" >6.380000</td>\n",
       "            </tr>\n",
       "            <tr>\n",
       "                        <th id=\"T_931ea_level0_row6\" class=\"row_heading level0 row6\" >id</th>\n",
       "                        <td id=\"T_931ea_row6_col0\" class=\"data row6 col0\" >0.000000</td>\n",
       "            </tr>\n",
       "            <tr>\n",
       "                        <th id=\"T_931ea_level0_row7\" class=\"row_heading level0 row7\" >name</th>\n",
       "                        <td id=\"T_931ea_row7_col0\" class=\"data row7 col0\" >0.000000</td>\n",
       "            </tr>\n",
       "            <tr>\n",
       "                        <th id=\"T_931ea_level0_row8\" class=\"row_heading level0 row8\" >category</th>\n",
       "                        <td id=\"T_931ea_row8_col0\" class=\"data row8 col0\" >0.000000</td>\n",
       "            </tr>\n",
       "            <tr>\n",
       "                        <th id=\"T_931ea_level0_row9\" class=\"row_heading level0 row9\" >address</th>\n",
       "                        <td id=\"T_931ea_row9_col0\" class=\"data row9 col0\" >0.000000</td>\n",
       "            </tr>\n",
       "            <tr>\n",
       "                        <th id=\"T_931ea_level0_row10\" class=\"row_heading level0 row10\" >district</th>\n",
       "                        <td id=\"T_931ea_row10_col0\" class=\"data row10 col0\" >0.000000</td>\n",
       "            </tr>\n",
       "            <tr>\n",
       "                        <th id=\"T_931ea_level0_row11\" class=\"row_heading level0 row11\" >rating</th>\n",
       "                        <td id=\"T_931ea_row11_col0\" class=\"data row11 col0\" >0.000000</td>\n",
       "            </tr>\n",
       "            <tr>\n",
       "                        <th id=\"T_931ea_level0_row12\" class=\"row_heading level0 row12\" >chain</th>\n",
       "                        <td id=\"T_931ea_row12_col0\" class=\"data row12 col0\" >0.000000</td>\n",
       "            </tr>\n",
       "    </tbody></table>"
      ],
      "text/plain": [
       "<pandas.io.formats.style.Styler at 0x7f2269afba90>"
      ]
     },
     "execution_count": 8,
     "metadata": {},
     "output_type": "execute_result"
    }
   ],
   "source": [
    "na_df = pd.DataFrame(round(df.isna().mean() * 100, 2), columns=['missing_%'])\n",
    "\n",
    "na_df_sorted = na_df.sort_values(by='missing_%', ascending=False)\n",
    "\n",
    "na_df_sorted.style.background_gradient('coolwarm')"
   ]
  },
  {
   "cell_type": "markdown",
   "id": "93ab6560",
   "metadata": {
    "id": "d9e7c358"
   },
   "source": [
    "1. Стоимость средней чашки капучино редко указывается заведениями, кроме того не во всех заведениях его подают. По этой причине в этом столбце наибольшее кол-во пропусков.\n",
    "2. Столбец `middle_avg_bill` производный: если avg_bill не начинается с \"cредний счёт\", то сюда ничего не попадает.\n",
    "3. В столбце `price` много пропусков из-за возможного отсуствия явной классификации в карточке заведения.\n",
    "4. В столбце `avg_bill` возможны пропуски из-за того, что заведение намеренно не внесло средний счет.\n",
    "5. Информация в столбце `seats` не обязательна и часто отсутствует в карточке заведения, к тому же многие заведения могут работать в концепции \"take away\".\n",
    "6. В столбце `hours`заведение могло не указывать часы в Картах, оно закрыто или временно не работает. \n",
    "Из-за большого кол-ва пропусков стоит их оставить нетронутыми и продолжить работу с их учетом."
   ]
  },
  {
   "cell_type": "code",
   "execution_count": 9,
   "id": "0769b681",
   "metadata": {
    "id": "0769b681"
   },
   "outputs": [
    {
     "name": "stdout",
     "output_type": "stream",
     "text": [
      "['Северный административный округ', 'Северо-Восточный административный округ', 'Северо-Западный административный округ', 'Западный административный округ', 'Центральный административный округ', 'Восточный административный округ', 'Юго-Восточный административный округ', 'Южный административный округ', 'Юго-Западный административный округ']\n",
      "Categories (9, object): ['Северный административный округ', 'Северо-Восточный административный округ', 'Северо-Западный административный округ', 'Западный административный округ', ..., 'Восточный административный округ', 'Юго-Восточный административный округ', 'Южный административный округ', 'Юго-Западный административный округ']\n",
      "9\n"
     ]
    }
   ],
   "source": [
    "print(df['district'].unique())\n",
    "print(df['district'].nunique())"
   ]
  },
  {
   "cell_type": "code",
   "execution_count": 10,
   "id": "95b15cd0",
   "metadata": {
    "id": "95b15cd0"
   },
   "outputs": [
    {
     "name": "stdout",
     "output_type": "stream",
     "text": [
      "['wowфли' 'четыре комнаты' 'хазри' ... 'миславнес' 'самовар' 'kebab time']\n",
      "5512\n"
     ]
    }
   ],
   "source": [
    "print(df['name'].str.lower().unique())\n",
    "print(df['name'].str.lower().nunique())"
   ]
  },
  {
   "cell_type": "code",
   "execution_count": 11,
   "id": "b52bae9a",
   "metadata": {
    "id": "b52bae9a"
   },
   "outputs": [
    {
     "name": "stdout",
     "output_type": "stream",
     "text": [
      "['кафе', 'ресторан', 'кофейня', 'пиццерия', 'бар,паб', 'быстрое питание', 'булочная', 'столовая']\n",
      "Categories (8, object): ['кафе', 'ресторан', 'кофейня', 'пиццерия', 'бар,паб', 'быстрое питание', 'булочная', 'столовая']\n",
      "8\n"
     ]
    }
   ],
   "source": [
    "print(df['category'].unique())\n",
    "print(df['category'].nunique())"
   ]
  },
  {
   "cell_type": "markdown",
   "id": "8a3e0abd",
   "metadata": {},
   "source": [
    "Проверяем наличие неявных дубликатов:"
   ]
  },
  {
   "cell_type": "code",
   "execution_count": 12,
   "id": "b5d0bfc9",
   "metadata": {},
   "outputs": [
    {
     "name": "stdout",
     "output_type": "stream",
     "text": [
      "Дубликаты по ключевым столбцам: 1437\n"
     ]
    }
   ],
   "source": [
    "duplicates_subset = df.duplicated(subset=['district', 'name', 'category'])\n",
    "print(f\"Дубликаты по ключевым столбцам: {duplicates_subset.sum()}\")"
   ]
  },
  {
   "cell_type": "code",
   "execution_count": 13,
   "id": "4c00418f",
   "metadata": {},
   "outputs": [
    {
     "data": {
      "text/plain": [
       "0"
      ]
     },
     "execution_count": 13,
     "metadata": {},
     "output_type": "execute_result"
    }
   ],
   "source": [
    "df = df.drop_duplicates(subset=['district', 'name', 'category'], keep='first')\n",
    "df.duplicated().sum()"
   ]
  },
  {
   "cell_type": "code",
   "execution_count": 14,
   "id": "57de1336",
   "metadata": {},
   "outputs": [
    {
     "name": "stdout",
     "output_type": "stream",
     "text": [
      "Всего удалено строк: 1437\n",
      "Относительное значение удаленных строк: 17.094932191291935\n"
     ]
    }
   ],
   "source": [
    "first_count = 8406\n",
    "final_count = df.shape[0]\n",
    "a_count = first_count - final_count \n",
    "r_count = (a_count / first_count)*100\n",
    "\n",
    "print(f'Всего удалено строк: {a_count}')\n",
    "print(f'Относительное значение удаленных строк: {r_count}')"
   ]
  },
  {
   "cell_type": "code",
   "execution_count": 15,
   "id": "d8a8a963",
   "metadata": {
    "id": "d8a8a963"
   },
   "outputs": [],
   "source": [
    "df['is_24_7'] = df['hours'].str.lower().str.strip().str.contains('круглосуточно|24/7|00:00–23:59', na=False)"
   ]
  },
  {
   "cell_type": "markdown",
   "id": "f3fbf5e7",
   "metadata": {
    "id": "42d1e685"
   },
   "source": [
    "Добавлен столбец-индикатор того, что заведение работает круглосуточно. Проверяем:"
   ]
  },
  {
   "cell_type": "code",
   "execution_count": 16,
   "id": "61304e83",
   "metadata": {
    "id": "61304e83"
   },
   "outputs": [
    {
     "data": {
      "text/html": [
       "<div>\n",
       "<style scoped>\n",
       "    .dataframe tbody tr th:only-of-type {\n",
       "        vertical-align: middle;\n",
       "    }\n",
       "\n",
       "    .dataframe tbody tr th {\n",
       "        vertical-align: top;\n",
       "    }\n",
       "\n",
       "    .dataframe thead th {\n",
       "        text-align: right;\n",
       "    }\n",
       "</style>\n",
       "<table border=\"1\" class=\"dataframe\">\n",
       "  <thead>\n",
       "    <tr style=\"text-align: right;\">\n",
       "      <th></th>\n",
       "      <th>name</th>\n",
       "      <th>hours</th>\n",
       "    </tr>\n",
       "  </thead>\n",
       "  <tbody>\n",
       "    <tr>\n",
       "      <th>10</th>\n",
       "      <td>Great Room Bar</td>\n",
       "      <td>ежедневно, круглосуточно</td>\n",
       "    </tr>\n",
       "    <tr>\n",
       "      <th>17</th>\n",
       "      <td>Чайхана Беш-Бармак</td>\n",
       "      <td>ежедневно, круглосуточно</td>\n",
       "    </tr>\n",
       "    <tr>\n",
       "      <th>19</th>\n",
       "      <td>Пекарня</td>\n",
       "      <td>ежедневно, круглосуточно</td>\n",
       "    </tr>\n",
       "  </tbody>\n",
       "</table>\n",
       "</div>"
      ],
      "text/plain": [
       "                  name                     hours\n",
       "10      Great Room Bar  ежедневно, круглосуточно\n",
       "17  Чайхана Беш-Бармак  ежедневно, круглосуточно\n",
       "19             Пекарня  ежедневно, круглосуточно"
      ]
     },
     "execution_count": 16,
     "metadata": {},
     "output_type": "execute_result"
    }
   ],
   "source": [
    "df[df['is_24_7'] == True][['name', 'hours']].head(3)"
   ]
  },
  {
   "cell_type": "markdown",
   "id": "562f30ab",
   "metadata": {
    "id": "562f30ab"
   },
   "source": [
    "---\n",
    "\n",
    "### Промежуточный вывод\n"
   ]
  },
  {
   "cell_type": "markdown",
   "id": "7fa0165c",
   "metadata": {
    "id": "e3388762"
   },
   "source": [
    "Неявных дубликатов при изучении уникальных значений не выявлено. Стоит отметить, что среди категорий заведений \"бар, паб\" находятся в одной категории. Принято решение не разделять на две разные, поскольку это исказить рез-ты анализа в дальнейшем (одно заведение будет подсчитываться дважды).\n",
    "\n",
    "Было обнаружено 1437 дублирующихся строк, или 17%. Эти дубликаты удалены с сохранением первой записи."
   ]
  },
  {
   "cell_type": "markdown",
   "id": "6953e84c",
   "metadata": {
    "id": "6953e84c"
   },
   "source": [
    "## 3. Исследовательский анализ данных\n"
   ]
  },
  {
   "cell_type": "markdown",
   "id": "8555d840",
   "metadata": {
    "id": "8555d840"
   },
   "source": [
    "---\n",
    "\n",
    "### Задача 1\n",
    "\n",
    "Какие категории заведений представлены в данных? Исследуйте количество объектов общественного питания по каждой категории. Результат сопроводите подходящей визуализацией."
   ]
  },
  {
   "cell_type": "code",
   "execution_count": 17,
   "id": "ef2bffe9",
   "metadata": {
    "id": "ef2bffe9",
    "scrolled": false
   },
   "outputs": [
    {
     "data": {
      "image/png": "[encoded data removed]",
      "text/plain": [
       "<Figure size 720x432 with 1 Axes>"
      ]
     },
     "metadata": {
      "needs_background": "light"
     },
     "output_type": "display_data"
    }
   ],
   "source": [
    "group = df['category'].value_counts().sort_values(ascending=False)\n",
    "\n",
    "ax = group.plot.bar(\n",
    "    title ='Категории заведений общественного питания в Москве',\n",
    "    xlabel = 'Категория',\n",
    "    ylabel = 'Количество заведений',\n",
    "    rot = 0,\n",
    "    color = 'skyblue',\n",
    "    figsize=(10,6)\n",
    ")\n",
    "\n",
    "xs = range(len(group))\n",
    "ys = group.values\n",
    "\n",
    "for x, y in zip(xs, ys):\n",
    "    label = f\"{y}\"\n",
    "    ax.annotate(label,\n",
    "                (x, y),\n",
    "                textcoords=\"offset points\",\n",
    "                xytext=(0, 5),  \n",
    "                ha='center')\n",
    "\n",
    "plt.tight_layout()\n",
    "plt.show()"
   ]
  },
  {
   "cell_type": "code",
   "execution_count": 18,
   "id": "dbcd905b",
   "metadata": {},
   "outputs": [
    {
     "data": {
      "image/png": "[encoded data removed]",
      "text/plain": [
       "<Figure size 720x432 with 1 Axes>"
      ]
     },
     "metadata": {
      "needs_background": "light"
     },
     "output_type": "display_data"
    }
   ],
   "source": [
    "group_rel = df['category'].value_counts(normalize=True).sort_values(ascending=False) * 100  \n",
    "\n",
    "ax = group_rel.plot.bar(\n",
    "    title='Доля категорий заведений (%)',\n",
    "    xlabel='Категория',\n",
    "    ylabel='Процент от общего числа',\n",
    "    color='skyblue',\n",
    "    rot=0,\n",
    "    figsize=(10,6)\n",
    ")\n",
    "\n",
    "xs = range(len(group_rel))\n",
    "ys = group_rel.values\n",
    "\n",
    "for x, y in zip(xs, ys):\n",
    "    label = f\"{y:.2f}%\"\n",
    "    ax.annotate(label,\n",
    "                (x, y),\n",
    "                textcoords=\"offset points\",\n",
    "                xytext=(0, 5),  \n",
    "                ha='center')\n",
    "\n",
    "plt.tight_layout()\n",
    "plt.show()"
   ]
  },
  {
   "cell_type": "markdown",
   "id": "d238f283",
   "metadata": {
    "id": "63360b97"
   },
   "source": [
    "В Москве преобладают кафе и рестораны - более 1500 точек (более 20%). Меньше всего представлены булочные (менее 250 точек, или 5%) и столовые. Таким образом, рынок общественного питания сосредоточен преимущественно в сегменте кафе, ресторанов и кофеен."
   ]
  },
  {
   "cell_type": "markdown",
   "id": "6821e1d0",
   "metadata": {
    "id": "6821e1d0"
   },
   "source": [
    "---\n",
    "\n",
    "### Задача 2\n",
    "\n",
    "Какие административные районы Москвы присутствуют в данных? Исследуйте распределение количества заведений по административным районам Москвы, а также отдельно распределение заведений каждой категории в Центральном административном округе Москвы. Результат сопроводите подходящими визуализациями."
   ]
  },
  {
   "cell_type": "code",
   "execution_count": 19,
   "id": "e62f31be",
   "metadata": {
    "id": "e62f31be"
   },
   "outputs": [
    {
     "data": {
      "image/png": "[encoded data removed]",
      "text/plain": [
       "<Figure size 864x720 with 2 Axes>"
      ]
     },
     "metadata": {
      "needs_background": "light"
     },
     "output_type": "display_data"
    }
   ],
   "source": [
    "new_district = {\n",
    "    'Центральный административный округ': 'ЦАО',\n",
    "    'Северный административный округ': 'САО',\n",
    "    'Северо-Восточный административный округ': 'СВАО',\n",
    "    'Восточный административный округ': 'ВАО',\n",
    "    'Юго-Восточный административный округ': 'ЮВАО',\n",
    "    'Южный административный округ': 'ЮАО',\n",
    "    'Юго-Западный административный округ': 'ЮЗАО',\n",
    "    'Западный административный округ': 'ЗАО',\n",
    "    'Северо-Западный административный округ': 'СЗАО',\n",
    "}\n",
    "\n",
    "df['district'] = df['district'].replace(new_district)\n",
    "\n",
    "district_total = df['district'].value_counts().sort_values(ascending=False)\n",
    "district_ratio = df['district'].value_counts(normalize=True).sort_values(ascending=False) * 100\n",
    "\n",
    "fig, axs = plt.subplots(2, 1, figsize=(12, 10))\n",
    "\n",
    "district_total.plot(kind='bar', color='skyblue', ax=axs[0])\n",
    "axs[0].set_title('Количество заведений по административным округам Москвы')\n",
    "axs[0].set_ylabel('Количество заведений')\n",
    "axs[0].set_xticklabels(district_total.index, rotation=0)\n",
    "\n",
    "for x, y in enumerate(district_total.values):\n",
    "    axs[0].annotate(f'{y}', (x, y),\n",
    "                    textcoords=\"offset points\",\n",
    "                    xytext=(0, 5),\n",
    "                    ha='center')\n",
    "\n",
    "district_ratio.plot(kind='bar', color='lightblue', ax=axs[1])\n",
    "axs[1].set_title('Доля заведений по административным округам Москвы (%)')\n",
    "axs[1].set_ylabel('Процент от общего числа')\n",
    "axs[1].set_xticklabels(district_ratio.index, rotation=0)\n",
    "\n",
    "for x, y in enumerate(district_ratio.values):\n",
    "    axs[1].annotate(f'{y:.2f}%', (x, y),\n",
    "                    textcoords=\"offset points\",\n",
    "                    xytext=(0, 5),\n",
    "                    ha='center')\n",
    "\n",
    "plt.tight_layout()\n",
    "plt.show()"
   ]
  },
  {
   "cell_type": "code",
   "execution_count": 20,
   "id": "0a290cd1",
   "metadata": {
    "id": "0a290cd1"
   },
   "outputs": [
    {
     "data": {
      "image/png": "[encoded data removed]",
      "text/plain": [
       "<Figure size 864x432 with 1 Axes>"
      ]
     },
     "metadata": {
      "needs_background": "light"
     },
     "output_type": "display_data"
    }
   ],
   "source": [
    "cao = df[df['district'] == 'ЦАО']\n",
    "cao_category = cao['category'].value_counts().sort_values(ascending=False)\n",
    "\n",
    "plt.figure(figsize=(12, 6))\n",
    "ax = cao_category.plot(kind='bar', color='powderblue')\n",
    "plt.title('Категории заведений в Центральном административном округе Москвы')\n",
    "plt.ylabel('Количество заведений')\n",
    "plt.xticks(rotation=45)\n",
    "\n",
    "for x, y in enumerate(cao_category.values):\n",
    "    ax.annotate(f'{y}',\n",
    "                (x, y),\n",
    "                textcoords=\"offset points\",\n",
    "                xytext=(0, 5),\n",
    "                ha='center')\n",
    "\n",
    "plt.tight_layout()\n",
    "plt.show()"
   ]
  },
  {
   "cell_type": "markdown",
   "id": "40cd4662",
   "metadata": {
    "id": "41f1654a"
   },
   "source": [
    "В данных представлено 9 из 12 округов Москвы (не представлены: Зеленоградский, Новомосковский и Троицкий). Наибольшее кол-во заведений в Центральном административном округе - более 1750 заведений (26,67%). Среди них большая часть приходится на рестораны и кафе. Кол-во баров/ пабов и кофейн приближается к кол-ву кафе. "
   ]
  },
  {
   "cell_type": "markdown",
   "id": "7c824f58",
   "metadata": {
    "id": "7c824f58"
   },
   "source": [
    "---\n",
    "\n",
    "### Задача 3\n",
    "\n",
    "Изучите соотношение сетевых и несетевых заведений в целом по всем данным и в разрезе категорий заведения. Каких заведений больше — сетевых или несетевых? Какие категории заведений чаще являются сетевыми? Исследуйте данные, ответьте на вопросы и постройте необходимые визуализации."
   ]
  },
  {
   "cell_type": "code",
   "execution_count": 21,
   "id": "ef442d1a",
   "metadata": {
    "id": "ef442d1a"
   },
   "outputs": [
    {
     "data": {
      "image/png": "[encoded data removed]",
      "text/plain": [
       "<Figure size 432x360 with 1 Axes>"
      ]
     },
     "metadata": {
      "needs_background": "light"
     },
     "output_type": "display_data"
    }
   ],
   "source": [
    "chain_counts = df['chain'].value_counts()\n",
    "chain_ratio = df['chain'].value_counts(normalize=True) * 100  \n",
    "\n",
    "plt.figure(figsize=(6, 5))\n",
    "ax = chain_counts.plot(kind='bar', color=['steelblue'])\n",
    "\n",
    "plt.title('Соотношение сетевых и несетевых заведений')\n",
    "plt.xlabel('Тип заведения')\n",
    "plt.ylabel('Количество')\n",
    "\n",
    "plt.xticks(ticks=[0, 1], labels=['Несетевые', 'Сетевые'], rotation=0)\n",
    "\n",
    "for x, (count, ratio) in enumerate(zip(chain_counts.values, chain_ratio.values)):\n",
    "    ax.annotate(f'{count}',              \n",
    "                (x, count),\n",
    "                textcoords=\"offset points\",\n",
    "                xytext=(0, 10),\n",
    "                ha='center',\n",
    "                fontsize=10,\n",
    "                )\n",
    "\n",
    "    ax.annotate(f'{ratio:.1f}%',        \n",
    "                (x, count),\n",
    "                textcoords=\"offset points\",\n",
    "                xytext=(0, -15),\n",
    "                ha='center',\n",
    "                fontsize=10,\n",
    "                color='white')\n",
    "\n",
    "plt.tight_layout()\n",
    "plt.show()"
   ]
  },
  {
   "cell_type": "code",
   "execution_count": 22,
   "id": "0de29fa2",
   "metadata": {
    "id": "0de29fa2"
   },
   "outputs": [
    {
     "data": {
      "image/png": "[encoded data removed]",
      "text/plain": [
       "<Figure size 864x432 with 1 Axes>"
      ]
     },
     "metadata": {
      "needs_background": "light"
     },
     "output_type": "display_data"
    }
   ],
   "source": [
    "chain_ratio = df.groupby('category')['chain'].mean().sort_values(ascending=False)\n",
    "\n",
    "plt.figure(figsize=(12, 6))\n",
    "ax = chain_ratio.plot(\n",
    "    kind='bar',\n",
    "    color='steelblue'\n",
    ")\n",
    "\n",
    "plt.title('Доля сетевых заведений по категориям')\n",
    "plt.xlabel('Категория')\n",
    "plt.ylabel('Доля сетевых заведений')\n",
    "plt.xticks(rotation=45)\n",
    "plt.grid(False)\n",
    "\n",
    "for x, y in enumerate(chain_ratio.values):\n",
    "    ax.annotate(f'{y:.1%}',          \n",
    "                (x, y),\n",
    "                textcoords=\"offset points\",\n",
    "                xytext=(0, 8),    \n",
    "                ha='center',\n",
    "                fontsize=9,\n",
    "                fontweight='bold',\n",
    "                color='steelblue')\n",
    "\n",
    "plt.tight_layout()\n",
    "plt.show()"
   ]
  },
  {
   "cell_type": "markdown",
   "id": "7a2ea017",
   "metadata": {
    "id": "a139bd72"
   },
   "source": [
    "Несетевые точки преобладают в разрезе общего кол-ва заведений общественного питания. Их около 5 тыс. Сетевых заведений в два раза меньше (около 2 тыс.). Среди сетевых точек доминируют булочные (более 45%) и места быстрого питания (~ 37%). Меньше всего сетей среди категории \"бары\\ пабы\" (менее 20%). "
   ]
  },
  {
   "cell_type": "markdown",
   "id": "5913c3e3",
   "metadata": {
    "id": "5913c3e3"
   },
   "source": [
    "---\n",
    "\n",
    "### Задача 4\n",
    "\n",
    "Исследуйте количество посадочных мест в заведениях. Встречаются ли в данных аномальные значения или выбросы? Если да, то с чем они могут быть связаны? Приведите для каждой категории заведений наиболее типичное для него количество посадочных мест. Результат сопроводите подходящими визуализациями.\n"
   ]
  },
  {
   "cell_type": "code",
   "execution_count": 23,
   "id": "6cb238d2",
   "metadata": {
    "id": "6cb238d2"
   },
   "outputs": [
    {
     "data": {
      "text/plain": [
       "<AxesSubplot:>"
      ]
     },
     "execution_count": 23,
     "metadata": {},
     "output_type": "execute_result"
    },
    {
     "data": {
      "image/png": "[encoded data removed]",
      "text/plain": [
       "<Figure size 864x360 with 1 Axes>"
      ]
     },
     "metadata": {
      "needs_background": "light"
     },
     "output_type": "display_data"
    }
   ],
   "source": [
    "df.boxplot(column='seats', vert=False, figsize =(12, 5))"
   ]
  },
  {
   "cell_type": "code",
   "execution_count": 24,
   "id": "062b55d8",
   "metadata": {
    "id": "062b55d8"
   },
   "outputs": [
    {
     "data": {
      "image/png": "[encoded data removed]",
      "text/plain": [
       "<Figure size 720x576 with 1 Axes>"
      ]
     },
     "metadata": {
      "needs_background": "light"
     },
     "output_type": "display_data"
    }
   ],
   "source": [
    "category_seats = df.groupby('category')['seats'].median().sort_values(ascending=False)\n",
    "\n",
    "category_seats.plot(\n",
    "    kind='barh',\n",
    "    figsize=(10, 8),\n",
    "    color='slategray',\n",
    "    title='Типичное количество посадочных мест по категориям (медиана)'\n",
    ")\n",
    "plt.xlabel('Количество посадочных мест')\n",
    "plt.ylabel('Категория')\n",
    "\n",
    "plt.tight_layout()\n",
    "plt.show()"
   ]
  },
  {
   "cell_type": "markdown",
   "id": "01ea0db8",
   "metadata": {
    "id": "ceadf25b"
   },
   "source": [
    "Большинство значений, судя по ящику с усами, находятся ниже 300. Наблюдаются единичные выбросы выше 600, доходящие до 1300+, что является редким ялвением для большинства типов заведений. \n",
    "\n",
    "\n",
    "Причины аномальных значений: большие гастропространства или фудкорты в ТЦ, где посадочные места считаются на несколько заведений. Это также могут быть банкетные залы и рестораны. Не исключен человеческий фактор при вводе данных.\n",
    "\n",
    "\n",
    "Межквартильный размах находится приблизительно между 50 и 150 посадочных мест, что говорит о типичном диапазоне вместимости.\n",
    "\n",
    "Если рассматривать по категориям, то большее кол-во мест приходится на рестораны, что типично для данного типа заведения. В барах/ пабах учитываются места за барной стойкой или имеется более компактное расположение, вследствие чего помещается большее кол-во людей."
   ]
  },
  {
   "cell_type": "markdown",
   "id": "8ed065ea",
   "metadata": {
    "id": "8ed065ea"
   },
   "source": [
    "---\n",
    "\n",
    "### Задача 5\n",
    "\n",
    "Исследуйте рейтинг заведений. Визуализируйте распределение средних рейтингов по категориям заведений. Сильно ли различаются усреднённые рейтинги для разных типов общепита?"
   ]
  },
  {
   "cell_type": "code",
   "execution_count": 25,
   "id": "cc5206f8",
   "metadata": {
    "id": "cc5206f8"
   },
   "outputs": [
    {
     "data": {
      "image/png": "[encoded data removed]",
      "text/plain": [
       "<Figure size 864x432 with 1 Axes>"
      ]
     },
     "metadata": {
      "needs_background": "light"
     },
     "output_type": "display_data"
    }
   ],
   "source": [
    "avg_rating = df.groupby('category')['rating'].mean().sort_values(ascending=False)\n",
    "\n",
    "plt.figure(figsize=(12, 6))\n",
    "ax = avg_rating.plot(kind='bar', color='teal')\n",
    "\n",
    "plt.title('Средний рейтинг по категориям заведений')\n",
    "plt.xlabel('Категория')\n",
    "plt.ylabel('Средний рейтинг')\n",
    "plt.xticks(rotation=45)\n",
    "\n",
    "plt.ylim(3, 5)\n",
    "\n",
    "for x, y in enumerate(avg_rating.values):\n",
    "    ax.annotate(f'{y:.2f}',\n",
    "                (x, y),\n",
    "                textcoords='offset points',\n",
    "                xytext=(0, 5),\n",
    "                ha='center',\n",
    "                fontsize=10)\n",
    "\n",
    "plt.tight_layout()\n",
    "plt.show()"
   ]
  },
  {
   "cell_type": "markdown",
   "id": "b841713a",
   "metadata": {
    "id": "3e0ec5d7"
   },
   "source": [
    "Самый низкий средний рейтинг у точек быстрого питания, самый высокий - у баров/ пабов. При этом распределение наблюдается в диапазоне от 4.05 до 4.35 и выше, что само по себе говорит о неплохой оценке заведения. Тем не менее, низкие оценки точек быстрого питания могут быть вызваны высокой посещаемостью, что влечет больше критики. Самообслуживание и минимальный сервис также сказываются на оценке. В то же время у баров/ пабов более высокие рейтинги характеризуются продуманной атмосферой и меньшим объемом посетителей. "
   ]
  },
  {
   "cell_type": "markdown",
   "id": "dd9702d9",
   "metadata": {
    "id": "dd9702d9"
   },
   "source": [
    "---\n",
    "\n",
    "### Задача 6\n",
    "\n",
    "Изучите, с какими данными показывают самую сильную корреляцию рейтинги заведений? Постройте и визуализируйте матрицу корреляции рейтинга заведения с разными данными: его категория, положение (административный район Москвы), статус сетевого заведения, количество мест, ценовая категория и признак, является ли заведения круглосуточным. Выберите самую сильную связь и проверьте её."
   ]
  },
  {
   "cell_type": "code",
   "execution_count": 26,
   "id": "15400eb9",
   "metadata": {
    "id": "15400eb9"
   },
   "outputs": [
    {
     "name": "stdout",
     "output_type": "stream",
     "text": [
      "interval columns not set, guessing: ['rating', 'chain', 'seats']\n"
     ]
    },
    {
     "data": {
      "image/png": "[encoded data removed]",
      "text/plain": [
       "<Figure size 720x576 with 2 Axes>"
      ]
     },
     "metadata": {
      "needs_background": "light"
     },
     "output_type": "display_data"
    }
   ],
   "source": [
    "phik_corr = df[['rating','category','district','chain','seats','price', 'is_24_7']].phik_matrix()\n",
    "\n",
    "plt.figure(figsize=(10, 8))\n",
    "sns.heatmap(phik_corr, annot=True, cmap='coolwarm')\n",
    "plt.title('Матрица корреляций')\n",
    "plt.show()"
   ]
  },
  {
   "cell_type": "code",
   "execution_count": 27,
   "id": "8f0379af",
   "metadata": {
    "id": "8f0379af"
   },
   "outputs": [
    {
     "data": {
      "image/png": "[encoded data removed]",
      "text/plain": [
       "<Figure size 576x360 with 1 Axes>"
      ]
     },
     "metadata": {
      "needs_background": "light"
     },
     "output_type": "display_data"
    }
   ],
   "source": [
    "plt.figure(figsize=(8, 5))\n",
    "sns.boxplot(x='price', y='rating', data=df)\n",
    "plt.title('Распределение рейтинга по ценовым категориям')\n",
    "plt.xlabel('Ценовая категория')\n",
    "plt.ylabel('Рейтинг')\n",
    "plt.show()"
   ]
  },
  {
   "cell_type": "markdown",
   "id": "bac0e861",
   "metadata": {
    "id": "1a65a84d"
   },
   "source": [
    "Между `price` и `rating` наблюдается слабая связь (0.22). Тут можно говорить о косвенном влиянии. Места с более высокими ценами получают оценки чуть выше. Очевидно, что дело не в самих ценах, а в более высоком уровне сервиса и качества блюд."
   ]
  },
  {
   "cell_type": "markdown",
   "id": "370de703",
   "metadata": {
    "id": "370de703"
   },
   "source": [
    "---\n",
    "\n",
    "### Задача 7\n",
    "\n",
    "Сгруппируйте данные по названиям заведений и найдите топ-15 популярных сетей в Москве. Для них посчитайте значения среднего рейтинга. Под популярностью понимается количество заведений этой сети в регионе. К какой категории заведений они относятся? Результат сопроводите подходящими визуализациями."
   ]
  },
  {
   "cell_type": "code",
   "execution_count": 28,
   "id": "5d828a9a",
   "metadata": {
    "id": "5d828a9a"
   },
   "outputs": [
    {
     "data": {
      "image/png": "[encoded data removed]",
      "text/plain": [
       "<Figure size 864x432 with 2 Axes>"
      ]
     },
     "metadata": {
      "needs_background": "light"
     },
     "output_type": "display_data"
    }
   ],
   "source": [
    "# Выводим топ-15\n",
    "counts = df['name'].value_counts()\n",
    "\n",
    "top15_names = counts.head(15).index\n",
    "\n",
    "avg_ratings = df[df['name'].isin(top15_names)].groupby('name')['rating'].mean()\n",
    "\n",
    "result = pd.DataFrame({\n",
    "    'Количество заведений': counts[top15_names],\n",
    "    'Средний рейтинг': avg_ratings\n",
    "})\n",
    "\n",
    "result = result.sort_values(by='Количество заведений', ascending=False)\n",
    "\n",
    "# Строим комбинированный график\n",
    "fig, ax1 = plt.subplots(figsize=(12, 6))\n",
    "\n",
    "bars = ax1.bar(result.index, result['Количество заведений'], color='skyblue')\n",
    "ax1.set_ylabel('Количество заведений')\n",
    "ax1.set_title('Топ-15 популярных сетей: количество заведений и средний рейтинг')\n",
    "ax1.tick_params(axis='x', rotation=90)\n",
    "\n",
    "for bar in bars:\n",
    "    height = bar.get_height()\n",
    "    ax1.annotate(f'{int(height)}',\n",
    "                 xy=(bar.get_x() + bar.get_width() / 2, height),\n",
    "                 xytext=(0, 5),\n",
    "                 textcoords='offset points',\n",
    "                 ha='center',\n",
    "                 va='bottom',\n",
    "                 fontsize=9)\n",
    "    \n",
    "ax2 = ax1.twinx()\n",
    "ax2.plot(result.index, result['Средний рейтинг'], color='teal', marker='o')\n",
    "ax2.set_ylabel('Средний рейтинг')\n",
    "\n",
    "for x, y in enumerate(result['Средний рейтинг']):\n",
    "    ax2.annotate(f'{y:.2f}',\n",
    "                 xy=(x, y),\n",
    "                 xytext=(0, 8),\n",
    "                 textcoords='offset points',\n",
    "                 ha='center',\n",
    "                 va='bottom',\n",
    "                 fontsize=9,\n",
    "                 color='teal')\n",
    "\n",
    "plt.tight_layout()\n",
    "plt.show()"
   ]
  },
  {
   "cell_type": "code",
   "execution_count": 35,
   "id": "d013c598",
   "metadata": {
    "id": "d013c598"
   },
   "outputs": [
    {
     "data": {
      "image/png": "[encoded data removed]",
      "text/plain": [
       "<Figure size 720x432 with 1 Axes>"
      ]
     },
     "metadata": {
      "needs_background": "light"
     },
     "output_type": "display_data"
    }
   ],
   "source": [
    "top15_df = df[df['name'].isin(top15_names)]\n",
    "\n",
    "category_counts = top15_df['category'].value_counts().sort_values(ascending=False)\n",
    "category_ratio = (category_counts / category_counts.sum()) * 100\n",
    "\n",
    "plt.figure(figsize=(10,6))\n",
    "ax = sns.barplot(\n",
    "    x=category_counts.values,\n",
    "    y=category_counts.index,\n",
    "    color='skyblue',\n",
    "    order=category_counts.index \n",
    ")\n",
    "\n",
    "plt.title('Распределение категорий заведений среди топ-15 сетей')\n",
    "plt.xlabel('Количество заведений')\n",
    "plt.ylabel('Категория')\n",
    "\n",
    "for i, (count, ratio) in enumerate(zip(category_counts.values, category_ratio.values)):\n",
    "    ax.annotate(f'{count}',            \n",
    "                xy=(count, i),\n",
    "                xytext=(5, 0),\n",
    "                textcoords='offset points',\n",
    "                va='center',\n",
    "                ha='left',\n",
    "                fontsize=9)\n",
    "    \n",
    "    ax.annotate(f'{ratio:.1f}%',      \n",
    "                xy=(count, i),\n",
    "                xytext=(5, -15),\n",
    "                textcoords='offset points',\n",
    "                va='center',\n",
    "                ha='left',\n",
    "                fontsize=9)\n",
    "\n",
    "plt.tight_layout()\n",
    "plt.show()"
   ]
  },
  {
   "cell_type": "markdown",
   "id": "214a590c",
   "metadata": {
    "id": "774348d5"
   },
   "source": [
    "Изучены топ-15 сетей по кол-ву заведений. Наиболее крупные сети - \"Кафе\", \"Хинкальная\" и \"Чайхана\". Большая часть крупных сетевых заведений представляют собой кафе (более 60), рестораны (около 50) или точки фастфуда. Рейтинг варьируется от 3.6 до 4.4."
   ]
  },
  {
   "cell_type": "markdown",
   "id": "85a90a94",
   "metadata": {
    "id": "85a90a94"
   },
   "source": [
    "---\n",
    "\n",
    "### Задача 8\n",
    "\n",
    "Изучите вариацию среднего чека заведения (столбец `middle_avg_bill`) в зависимости от района Москвы. Проанализируйте цены в Центральном административном округе и других. Как удалённость от центра влияет на цены в заведениях? Результат сопроводите подходящими визуализациями.\n"
   ]
  },
  {
   "cell_type": "code",
   "execution_count": 30,
   "id": "5fb4ffc6",
   "metadata": {
    "id": "5fb4ffc6"
   },
   "outputs": [
    {
     "data": {
      "image/png": "[encoded data removed]",
      "text/plain": [
       "<Figure size 864x432 with 1 Axes>"
      ]
     },
     "metadata": {
      "needs_background": "light"
     },
     "output_type": "display_data"
    }
   ],
   "source": [
    "check = df[['district', 'middle_avg_bill']].dropna()\n",
    "\n",
    "plt.figure(figsize=(12,6))\n",
    "sns.boxplot(x='district', y='middle_avg_bill', data=check)\n",
    "plt.xticks(rotation=90)\n",
    "plt.title('Распределение среднего чека по районам Москвы')\n",
    "plt.xlabel('Район')\n",
    "plt.ylabel('Средний чек (руб.)')\n",
    "plt.show()"
   ]
  },
  {
   "cell_type": "code",
   "execution_count": 31,
   "id": "b98066c1",
   "metadata": {
    "id": "b98066c1"
   },
   "outputs": [
    {
     "data": {
      "image/png": "[encoded data removed]",
      "text/plain": [
       "<Figure size 576x432 with 1 Axes>"
      ]
     },
     "metadata": {
      "needs_background": "light"
     },
     "output_type": "display_data"
    },
    {
     "name": "stdout",
     "output_type": "stream",
     "text": [
      "is_CAO\n",
      "Другие районы     866.554477\n",
      "ЦАО              1252.289504\n",
      "Name: middle_avg_bill, dtype: float64\n"
     ]
    }
   ],
   "source": [
    "data = df[['district', 'middle_avg_bill']].dropna()\n",
    "\n",
    "data['is_CAO'] = data['district'].str.contains('ЦАО')\n",
    "\n",
    "data['is_CAO'] = data['is_CAO'].replace({True: 'ЦАО', False: 'Другие районы'})\n",
    "\n",
    "plt.figure(figsize=(8,6))\n",
    "sns.boxplot(x='is_CAO', y='middle_avg_bill', data=data)\n",
    "plt.title('Средний чек в ЦАО и других районах Москвы')\n",
    "plt.ylabel('Средний чек (руб.)')\n",
    "plt.xlabel('')\n",
    "plt.show()\n",
    "\n",
    "print(data.groupby('is_CAO')['middle_avg_bill'].mean())"
   ]
  },
  {
   "cell_type": "markdown",
   "id": "c5478805",
   "metadata": {
    "id": "9b5e00a5"
   },
   "source": [
    "Средний чек всех округов находится в диапазоне до 5000 руб. Однако встречаются единичные выбросы с Северном, Восточном - около 10 тыс. - и Южном (35 тыс) округах. В ЦАО чек варьируется до 10 тыс. без аномальных выбросов. "
   ]
  },
  {
   "cell_type": "markdown",
   "id": "f2c54e9a",
   "metadata": {
    "id": "f2c54e9a"
   },
   "source": [
    "---\n",
    "\n",
    "### Промежуточный вывод\n"
   ]
  },
  {
   "cell_type": "markdown",
   "id": "d85faf95",
   "metadata": {
    "id": "c8869609"
   },
   "source": [
    "1. Наибольшее число точек приходится на кафе, рестораны и кофейни. Рынок сконцентрирован в среднем и среднем+ ценовом сегменте.\n",
    "2. В выборке представлены 9 из 12 округов Москвы. ЦАО — лидер по количеству заведений (более 1750), особенно кафе, ресторанов и баров, что типично для центра.\n",
    "3. Несетевые заведения преобладают — около 5 тыс. точек против 2 тыс. сетевых. Среди сетевых по количеству лидируют булочные и точки фастфуда, что характерно для форматов с франшизой. Однако при рассмотрении в разрезе рейтинга, в топ-15-ти сетевых точек преобладают кафе, рестораны и фастфуд, что обусловлено их масштабностью. \n",
    "4. Большинство заведений вмещает 50–150 человек, а основной диапазон среднего чека — до 5000 руб. Однако в некоторых округах (ЮАО, СВАО) есть выбросы до 10–35 тыс. руб, вероятно, из-за элитных ресторанов."
   ]
  },
  {
   "cell_type": "markdown",
   "id": "480f3422",
   "metadata": {
    "id": "480f3422"
   },
   "source": [
    "## 4. Итоговый вывод и рекомендации\n"
   ]
  },
  {
   "cell_type": "markdown",
   "id": "e332a4d6",
   "metadata": {},
   "source": [
    "В рамках исследовательского анализа были изучены данные о заведениях общественного питания в Москве: их категории, география, тип (сетевые/несетевые), средний рейтинг, посадочные места и ценовой сегмент. Были построены соответсвующие визуализации.\n",
    "\n",
    "Была проделана следующая работа:\n",
    "- изучено содержимое датасетов (кол-во строк, столбцов, типы данных), объеденены датасеты\n",
    "- данные нормализованы и преобразованы в более удобные для работы форматы\n",
    "- выявлены пропуски: 24.67% на весь датасет, большая часть которых в столбцах со средними ценами.\n",
    "- данные очищены от явных и неявных дубликатов. Было обнаружено 1437 неявных дубликата.\n",
    "- исследованы различные стороны общесвенного питания в Москве (популярные заведения, средний чек, сетевые компании, кол-во посадочных мест и т.п.)\n",
    "- выделены топ-15 сетей питания по кол-ву заведений и рейтингу\n",
    "- представлены краткие выводы по итогам каждого шага в разделе исследовательского анализа\n",
    "- выделены самые важные рез-ты в промежуточном выводе\n",
    "\n",
    "Главные выводы:\n",
    "Рынок сконцентрирован вокруг кафе, ресторанов и кофеен. Центральный административный округ (ЦАО) — лидер по количеству заведений. Несетевые заведения преобладают количественно, однако в топ-15 в популярных брендов входят преимущественно сетевые заведения. Рейтинг заведений стабильно высокий: основная масса оценок находится в диапазоне 4.0–4.4. Бары получают более высокие оценки по сравнению с другими категориями. \n",
    "\n",
    "Рекомендации:\n",
    "1. Изучить спрос в непредставленных трех округах (Зеленоградский, Новомосковский, Троицкий). \n",
    "2. Ориентироваться на открытие кафе и ресторанов в популярных районах из-за высокого трафика.\n",
    "3. При открытии заведения фокусироваться на качестве сервиса и атмосфере, что влияет на общий рейтинг места.\n",
    "4. При выборе формата учитывать оптимальную вместимость (оптимально от 50 до 150 мест).\n",
    "5. Более подробно сфокусироваться на исследовании корреляции различных критериев заведения с целью выявления дополнительных закономерностей."
   ]
  }
 ],
 "metadata": {
  "ExecuteTimeLog": [
   {
    "duration": 3890,
    "start_time": "2025-07-06T11:05:58.887Z"
   },
   {
    "duration": 96,
    "start_time": "2025-07-06T11:06:07.934Z"
   },
   {
    "duration": 20,
    "start_time": "2025-07-06T11:06:25.596Z"
   },
   {
    "duration": 26,
    "start_time": "2025-07-06T11:06:34.919Z"
   },
   {
    "duration": 105,
    "start_time": "2025-07-06T11:06:46.573Z"
   },
   {
    "duration": 23,
    "start_time": "2025-07-06T11:07:01.753Z"
   },
   {
    "duration": 115,
    "start_time": "2025-07-06T11:08:53.813Z"
   },
   {
    "duration": 98,
    "start_time": "2025-07-06T11:09:45.688Z"
   },
   {
    "duration": 23,
    "start_time": "2025-07-06T11:13:00.647Z"
   },
   {
    "duration": 9,
    "start_time": "2025-07-06T11:13:45.111Z"
   },
   {
    "duration": 8,
    "start_time": "2025-07-06T11:13:53.523Z"
   },
   {
    "duration": 16,
    "start_time": "2025-07-06T11:14:23.370Z"
   },
   {
    "duration": 60,
    "start_time": "2025-07-06T11:14:26.291Z"
   },
   {
    "duration": 5,
    "start_time": "2025-07-06T11:15:08.974Z"
   },
   {
    "duration": 7,
    "start_time": "2025-07-06T11:15:27.946Z"
   },
   {
    "duration": 16,
    "start_time": "2025-07-06T11:15:36.910Z"
   },
   {
    "duration": 7,
    "start_time": "2025-07-06T11:15:40.355Z"
   },
   {
    "duration": 94,
    "start_time": "2025-07-06T11:16:15.670Z"
   },
   {
    "duration": 7,
    "start_time": "2025-07-06T11:20:02.443Z"
   },
   {
    "duration": 22,
    "start_time": "2025-07-06T11:20:08.344Z"
   },
   {
    "duration": 4,
    "start_time": "2025-07-06T11:20:18.794Z"
   },
   {
    "duration": 96,
    "start_time": "2025-07-06T11:20:28.328Z"
   },
   {
    "duration": 30,
    "start_time": "2025-07-06T11:20:47.453Z"
   },
   {
    "duration": 14,
    "start_time": "2025-07-06T11:21:37.598Z"
   },
   {
    "duration": 10,
    "start_time": "2025-07-06T11:21:43.497Z"
   },
   {
    "duration": 8,
    "start_time": "2025-07-06T11:23:15.184Z"
   },
   {
    "duration": 404,
    "start_time": "2025-07-06T11:24:57.188Z"
   },
   {
    "duration": 383,
    "start_time": "2025-07-06T11:26:03.305Z"
   },
   {
    "duration": 350,
    "start_time": "2025-07-06T11:26:23.779Z"
   },
   {
    "duration": 326,
    "start_time": "2025-07-06T11:27:36.603Z"
   },
   {
    "duration": 287,
    "start_time": "2025-07-06T11:27:43.963Z"
   },
   {
    "duration": 294,
    "start_time": "2025-07-06T11:29:29.847Z"
   },
   {
    "duration": 372,
    "start_time": "2025-07-06T11:29:41.668Z"
   },
   {
    "duration": 306,
    "start_time": "2025-07-06T11:29:55.717Z"
   },
   {
    "duration": 293,
    "start_time": "2025-07-06T11:30:06.288Z"
   },
   {
    "duration": 316,
    "start_time": "2025-07-06T11:31:31.835Z"
   },
   {
    "duration": 260,
    "start_time": "2025-07-06T11:32:08.732Z"
   },
   {
    "duration": 216,
    "start_time": "2025-07-06T11:32:27.384Z"
   },
   {
    "duration": 246,
    "start_time": "2025-07-06T11:33:50.555Z"
   },
   {
    "duration": 220,
    "start_time": "2025-07-06T11:34:04.582Z"
   },
   {
    "duration": 220,
    "start_time": "2025-07-06T11:34:09.682Z"
   },
   {
    "duration": 280,
    "start_time": "2025-07-06T11:34:35.675Z"
   },
   {
    "duration": 317,
    "start_time": "2025-07-06T11:35:38.677Z"
   },
   {
    "duration": 248,
    "start_time": "2025-07-06T11:36:02.105Z"
   },
   {
    "duration": 113,
    "start_time": "2025-07-06T11:36:11.487Z"
   },
   {
    "duration": 114,
    "start_time": "2025-07-06T11:36:16.747Z"
   },
   {
    "duration": 121,
    "start_time": "2025-07-06T11:36:20.652Z"
   },
   {
    "duration": 121,
    "start_time": "2025-07-06T11:36:25.098Z"
   },
   {
    "duration": 322,
    "start_time": "2025-07-06T11:37:25.015Z"
   },
   {
    "duration": 318,
    "start_time": "2025-07-06T11:38:26.613Z"
   },
   {
    "duration": 297,
    "start_time": "2025-07-06T11:40:19.340Z"
   },
   {
    "duration": 332,
    "start_time": "2025-07-06T11:40:41.442Z"
   },
   {
    "duration": 884,
    "start_time": "2025-07-06T11:41:11.536Z"
   },
   {
    "duration": 139,
    "start_time": "2025-07-06T11:42:32.281Z"
   },
   {
    "duration": 14,
    "start_time": "2025-07-06T11:42:50.194Z"
   },
   {
    "duration": 16,
    "start_time": "2025-07-06T11:43:52.956Z"
   },
   {
    "duration": 363,
    "start_time": "2025-07-06T11:44:04.995Z"
   },
   {
    "duration": 286,
    "start_time": "2025-07-06T11:44:12.374Z"
   },
   {
    "duration": 263,
    "start_time": "2025-07-06T11:44:18.390Z"
   },
   {
    "duration": 229,
    "start_time": "2025-07-06T11:44:58.492Z"
   },
   {
    "duration": 270,
    "start_time": "2025-07-06T11:45:16.743Z"
   },
   {
    "duration": 288,
    "start_time": "2025-07-06T11:45:30.410Z"
   },
   {
    "duration": 9,
    "start_time": "2025-07-06T11:47:15.186Z"
   },
   {
    "duration": 17,
    "start_time": "2025-07-06T11:48:51.508Z"
   },
   {
    "duration": 22,
    "start_time": "2025-07-06T11:48:57.502Z"
   },
   {
    "duration": 14,
    "start_time": "2025-07-06T11:49:53.163Z"
   },
   {
    "duration": 371,
    "start_time": "2025-07-06T11:56:45.079Z"
   },
   {
    "duration": 364,
    "start_time": "2025-07-06T11:57:38.773Z"
   },
   {
    "duration": 438,
    "start_time": "2025-07-06T11:57:47.894Z"
   },
   {
    "duration": 330,
    "start_time": "2025-07-06T11:58:59.592Z"
   },
   {
    "duration": 177,
    "start_time": "2025-07-06T11:59:24.912Z"
   },
   {
    "duration": 16,
    "start_time": "2025-07-06T12:00:02.262Z"
   },
   {
    "duration": 12,
    "start_time": "2025-07-06T12:01:11.920Z"
   },
   {
    "duration": 182,
    "start_time": "2025-07-06T12:01:35.492Z"
   },
   {
    "duration": 270,
    "start_time": "2025-07-06T12:02:47.513Z"
   },
   {
    "duration": 142,
    "start_time": "2025-07-06T12:03:00.176Z"
   },
   {
    "duration": 158,
    "start_time": "2025-07-06T12:03:14.374Z"
   },
   {
    "duration": 160,
    "start_time": "2025-07-06T12:03:59.537Z"
   },
   {
    "duration": 165,
    "start_time": "2025-07-06T12:04:08.423Z"
   },
   {
    "duration": 437,
    "start_time": "2025-07-06T12:04:45.173Z"
   },
   {
    "duration": 320,
    "start_time": "2025-07-06T12:04:51.239Z"
   },
   {
    "duration": 306,
    "start_time": "2025-07-06T12:05:01.548Z"
   },
   {
    "duration": 306,
    "start_time": "2025-07-06T12:05:24.582Z"
   },
   {
    "duration": 329,
    "start_time": "2025-07-06T12:05:33.550Z"
   },
   {
    "duration": 138,
    "start_time": "2025-07-06T12:19:11.576Z"
   },
   {
    "duration": 287,
    "start_time": "2025-07-06T12:19:14.584Z"
   },
   {
    "duration": 148,
    "start_time": "2025-07-06T12:19:36.878Z"
   },
   {
    "duration": 315,
    "start_time": "2025-07-06T12:19:42.713Z"
   },
   {
    "duration": 191,
    "start_time": "2025-07-06T12:35:18.660Z"
   },
   {
    "duration": 448,
    "start_time": "2025-07-06T12:40:38.335Z"
   },
   {
    "duration": 335,
    "start_time": "2025-07-06T12:41:02.759Z"
   },
   {
    "duration": 330,
    "start_time": "2025-07-06T12:41:14.704Z"
   },
   {
    "duration": 450,
    "start_time": "2025-07-06T12:42:28.541Z"
   },
   {
    "duration": 441,
    "start_time": "2025-07-06T12:43:36.550Z"
   },
   {
    "duration": 425,
    "start_time": "2025-07-06T12:45:49.608Z"
   },
   {
    "duration": 304,
    "start_time": "2025-07-06T12:46:08.159Z"
   },
   {
    "duration": 149,
    "start_time": "2025-07-06T13:15:44.056Z"
   },
   {
    "duration": 3717,
    "start_time": "2025-07-06T13:17:14.834Z"
   },
   {
    "duration": 99,
    "start_time": "2025-07-06T13:17:18.554Z"
   },
   {
    "duration": 32,
    "start_time": "2025-07-06T13:17:18.657Z"
   },
   {
    "duration": 19,
    "start_time": "2025-07-06T13:17:18.690Z"
   },
   {
    "duration": 26,
    "start_time": "2025-07-06T13:17:18.711Z"
   },
   {
    "duration": 37,
    "start_time": "2025-07-06T13:17:18.738Z"
   },
   {
    "duration": 14,
    "start_time": "2025-07-06T13:17:18.777Z"
   },
   {
    "duration": 57,
    "start_time": "2025-07-06T13:17:18.793Z"
   },
   {
    "duration": 22,
    "start_time": "2025-07-06T13:17:18.852Z"
   },
   {
    "duration": 8,
    "start_time": "2025-07-06T13:17:18.876Z"
   },
   {
    "duration": 15,
    "start_time": "2025-07-06T13:17:18.886Z"
   },
   {
    "duration": 7,
    "start_time": "2025-07-06T13:17:18.902Z"
   },
   {
    "duration": 7,
    "start_time": "2025-07-06T13:17:18.911Z"
   },
   {
    "duration": 59,
    "start_time": "2025-07-06T13:17:18.921Z"
   },
   {
    "duration": 5,
    "start_time": "2025-07-06T13:17:18.981Z"
   },
   {
    "duration": 20,
    "start_time": "2025-07-06T13:17:18.987Z"
   },
   {
    "duration": 11,
    "start_time": "2025-07-06T13:17:19.008Z"
   },
   {
    "duration": 386,
    "start_time": "2025-07-06T13:17:19.020Z"
   },
   {
    "duration": 325,
    "start_time": "2025-07-06T13:17:19.408Z"
   },
   {
    "duration": 300,
    "start_time": "2025-07-06T13:17:19.734Z"
   },
   {
    "duration": 256,
    "start_time": "2025-07-06T13:17:20.035Z"
   },
   {
    "duration": 298,
    "start_time": "2025-07-06T13:17:20.292Z"
   },
   {
    "duration": 124,
    "start_time": "2025-07-06T13:17:20.592Z"
   },
   {
    "duration": 419,
    "start_time": "2025-07-06T13:17:20.718Z"
   },
   {
    "duration": 293,
    "start_time": "2025-07-06T13:17:21.139Z"
   },
   {
    "duration": 769,
    "start_time": "2025-07-06T13:17:21.433Z"
   },
   {
    "duration": 207,
    "start_time": "2025-07-06T13:17:22.204Z"
   },
   {
    "duration": 412,
    "start_time": "2025-07-06T13:17:22.413Z"
   },
   {
    "duration": 189,
    "start_time": "2025-07-06T13:17:22.827Z"
   },
   {
    "duration": 249,
    "start_time": "2025-07-06T13:17:23.017Z"
   },
   {
    "duration": 155,
    "start_time": "2025-07-06T13:17:23.270Z"
   },
   {
    "duration": 4680,
    "start_time": "2025-07-06T21:45:06.708Z"
   },
   {
    "duration": 316,
    "start_time": "2025-07-06T21:45:11.390Z"
   },
   {
    "duration": 27,
    "start_time": "2025-07-06T21:45:11.708Z"
   },
   {
    "duration": 18,
    "start_time": "2025-07-06T21:45:11.737Z"
   },
   {
    "duration": 92,
    "start_time": "2025-07-06T21:45:11.757Z"
   },
   {
    "duration": 12,
    "start_time": "2025-07-06T21:45:11.851Z"
   },
   {
    "duration": 12,
    "start_time": "2025-07-06T21:45:11.864Z"
   },
   {
    "duration": 62,
    "start_time": "2025-07-06T21:45:11.878Z"
   },
   {
    "duration": 18,
    "start_time": "2025-07-06T21:45:11.942Z"
   },
   {
    "duration": 27,
    "start_time": "2025-07-06T21:45:11.962Z"
   },
   {
    "duration": 19,
    "start_time": "2025-07-06T21:45:11.991Z"
   },
   {
    "duration": 7,
    "start_time": "2025-07-06T21:45:12.012Z"
   },
   {
    "duration": 7,
    "start_time": "2025-07-06T21:45:12.021Z"
   },
   {
    "duration": 35,
    "start_time": "2025-07-06T21:45:12.031Z"
   },
   {
    "duration": 3,
    "start_time": "2025-07-06T21:45:12.068Z"
   },
   {
    "duration": 17,
    "start_time": "2025-07-06T21:45:12.073Z"
   },
   {
    "duration": 10,
    "start_time": "2025-07-06T21:45:12.091Z"
   },
   {
    "duration": 377,
    "start_time": "2025-07-06T21:45:12.102Z"
   },
   {
    "duration": 321,
    "start_time": "2025-07-06T21:45:12.481Z"
   },
   {
    "duration": 306,
    "start_time": "2025-07-06T21:45:12.804Z"
   },
   {
    "duration": 257,
    "start_time": "2025-07-06T21:45:13.112Z"
   },
   {
    "duration": 266,
    "start_time": "2025-07-06T21:45:13.371Z"
   },
   {
    "duration": 137,
    "start_time": "2025-07-06T21:45:13.639Z"
   },
   {
    "duration": 353,
    "start_time": "2025-07-06T21:45:13.779Z"
   },
   {
    "duration": 268,
    "start_time": "2025-07-06T21:45:14.159Z"
   },
   {
    "duration": 798,
    "start_time": "2025-07-06T21:45:14.429Z"
   },
   {
    "duration": 186,
    "start_time": "2025-07-06T21:45:15.229Z"
   },
   {
    "duration": 411,
    "start_time": "2025-07-06T21:45:15.417Z"
   },
   {
    "duration": 174,
    "start_time": "2025-07-06T21:45:15.829Z"
   },
   {
    "duration": 245,
    "start_time": "2025-07-06T21:45:16.005Z"
   },
   {
    "duration": 146,
    "start_time": "2025-07-06T21:45:16.252Z"
   },
   {
    "duration": 89,
    "start_time": "2025-07-07T06:24:52.587Z"
   },
   {
    "duration": 63,
    "start_time": "2025-07-07T06:31:20.954Z"
   },
   {
    "duration": 7,
    "start_time": "2025-07-07T06:31:25.131Z"
   },
   {
    "duration": 5973,
    "start_time": "2025-07-07T06:31:33.925Z"
   },
   {
    "duration": 92,
    "start_time": "2025-07-07T06:31:39.900Z"
   },
   {
    "duration": 29,
    "start_time": "2025-07-07T06:31:39.993Z"
   },
   {
    "duration": 22,
    "start_time": "2025-07-07T06:31:40.025Z"
   },
   {
    "duration": 138,
    "start_time": "2025-07-07T06:31:40.073Z"
   },
   {
    "duration": 13,
    "start_time": "2025-07-07T06:31:40.212Z"
   },
   {
    "duration": 59,
    "start_time": "2025-07-07T06:31:40.227Z"
   },
   {
    "duration": 6,
    "start_time": "2025-07-07T06:31:40.287Z"
   },
   {
    "duration": 12,
    "start_time": "2025-07-07T06:31:40.295Z"
   },
   {
    "duration": 19,
    "start_time": "2025-07-07T06:31:40.309Z"
   },
   {
    "duration": 7,
    "start_time": "2025-07-07T06:31:40.338Z"
   },
   {
    "duration": 50,
    "start_time": "2025-07-07T06:31:40.347Z"
   },
   {
    "duration": 57,
    "start_time": "2025-07-07T06:31:40.399Z"
   },
   {
    "duration": 9,
    "start_time": "2025-07-07T06:31:40.458Z"
   },
   {
    "duration": 25,
    "start_time": "2025-07-07T06:31:40.468Z"
   },
   {
    "duration": 42,
    "start_time": "2025-07-07T06:31:40.495Z"
   },
   {
    "duration": 434,
    "start_time": "2025-07-07T06:31:40.539Z"
   },
   {
    "duration": 320,
    "start_time": "2025-07-07T06:31:40.976Z"
   },
   {
    "duration": 310,
    "start_time": "2025-07-07T06:31:41.298Z"
   },
   {
    "duration": 254,
    "start_time": "2025-07-07T06:31:41.610Z"
   },
   {
    "duration": 339,
    "start_time": "2025-07-07T06:31:41.866Z"
   },
   {
    "duration": 139,
    "start_time": "2025-07-07T06:31:42.206Z"
   },
   {
    "duration": 373,
    "start_time": "2025-07-07T06:31:42.347Z"
   },
   {
    "duration": 285,
    "start_time": "2025-07-07T06:31:42.722Z"
   },
   {
    "duration": 773,
    "start_time": "2025-07-07T06:31:43.009Z"
   },
   {
    "duration": 182,
    "start_time": "2025-07-07T06:31:43.784Z"
   },
   {
    "duration": 432,
    "start_time": "2025-07-07T06:31:43.969Z"
   },
   {
    "duration": 187,
    "start_time": "2025-07-07T06:31:44.403Z"
   },
   {
    "duration": 255,
    "start_time": "2025-07-07T06:31:44.592Z"
   },
   {
    "duration": 147,
    "start_time": "2025-07-07T06:31:44.849Z"
   },
   {
    "duration": 22,
    "start_time": "2025-07-07T06:31:44.997Z"
   },
   {
    "duration": 7,
    "start_time": "2025-07-07T06:47:31.447Z"
   },
   {
    "duration": 12,
    "start_time": "2025-07-07T06:47:40.892Z"
   },
   {
    "duration": 96,
    "start_time": "2025-07-07T06:47:52.803Z"
   },
   {
    "duration": 15,
    "start_time": "2025-07-07T06:48:44.138Z"
   },
   {
    "duration": 14,
    "start_time": "2025-07-07T06:49:03.302Z"
   },
   {
    "duration": 380,
    "start_time": "2025-07-07T06:50:18.248Z"
   },
   {
    "duration": 117,
    "start_time": "2025-07-07T06:55:58.059Z"
   },
   {
    "duration": 251,
    "start_time": "2025-07-07T06:56:06.031Z"
   },
   {
    "duration": 245,
    "start_time": "2025-07-07T06:56:34.358Z"
   },
   {
    "duration": 312,
    "start_time": "2025-07-07T06:56:46.175Z"
   },
   {
    "duration": 163,
    "start_time": "2025-07-07T07:05:41.287Z"
   },
   {
    "duration": 318,
    "start_time": "2025-07-07T07:06:03.314Z"
   },
   {
    "duration": 298,
    "start_time": "2025-07-07T07:07:40.112Z"
   },
   {
    "duration": 334,
    "start_time": "2025-07-07T07:08:19.882Z"
   },
   {
    "duration": 1619,
    "start_time": "2025-07-07T07:09:10.229Z"
   },
   {
    "duration": 342,
    "start_time": "2025-07-07T07:09:45.361Z"
   },
   {
    "duration": 319,
    "start_time": "2025-07-07T07:09:59.045Z"
   },
   {
    "duration": 525,
    "start_time": "2025-07-07T07:15:16.023Z"
   },
   {
    "duration": 397,
    "start_time": "2025-07-07T07:15:44.884Z"
   },
   {
    "duration": 275,
    "start_time": "2025-07-07T07:15:59.916Z"
   },
   {
    "duration": 352,
    "start_time": "2025-07-07T07:22:14.200Z"
   },
   {
    "duration": 440,
    "start_time": "2025-07-07T07:22:26.438Z"
   },
   {
    "duration": 467,
    "start_time": "2025-07-07T07:22:35.959Z"
   },
   {
    "duration": 505,
    "start_time": "2025-07-07T07:23:17.834Z"
   },
   {
    "duration": 687,
    "start_time": "2025-07-07T07:24:20.488Z"
   },
   {
    "duration": 303,
    "start_time": "2025-07-07T07:24:51.258Z"
   },
   {
    "duration": 326,
    "start_time": "2025-07-07T07:25:24.263Z"
   },
   {
    "duration": 368,
    "start_time": "2025-07-07T07:25:42.286Z"
   },
   {
    "duration": 348,
    "start_time": "2025-07-07T07:25:46.149Z"
   },
   {
    "duration": 308,
    "start_time": "2025-07-07T07:27:09.472Z"
   },
   {
    "duration": 278,
    "start_time": "2025-07-07T07:28:30.726Z"
   },
   {
    "duration": 139,
    "start_time": "2025-07-07T07:31:41.887Z"
   },
   {
    "duration": 231,
    "start_time": "2025-07-07T07:32:13.956Z"
   },
   {
    "duration": 313,
    "start_time": "2025-07-07T07:32:18.641Z"
   },
   {
    "duration": 255,
    "start_time": "2025-07-07T07:33:30.141Z"
   },
   {
    "duration": 458,
    "start_time": "2025-07-07T07:34:35.307Z"
   },
   {
    "duration": 346,
    "start_time": "2025-07-07T07:35:04.403Z"
   },
   {
    "duration": 355,
    "start_time": "2025-07-07T07:35:15.389Z"
   },
   {
    "duration": 289,
    "start_time": "2025-07-07T07:36:28.513Z"
   },
   {
    "duration": 282,
    "start_time": "2025-07-07T07:37:59.341Z"
   },
   {
    "duration": 320,
    "start_time": "2025-07-07T07:38:36.904Z"
   },
   {
    "duration": 182,
    "start_time": "2025-07-07T07:42:20.572Z"
   },
   {
    "duration": 87,
    "start_time": "2025-07-07T07:42:48.112Z"
   },
   {
    "duration": 182,
    "start_time": "2025-07-07T07:44:09.961Z"
   },
   {
    "duration": 242,
    "start_time": "2025-07-07T07:44:27.952Z"
   },
   {
    "duration": 245,
    "start_time": "2025-07-07T07:44:29.924Z"
   },
   {
    "duration": 244,
    "start_time": "2025-07-07T07:45:09.716Z"
   },
   {
    "duration": 371,
    "start_time": "2025-07-07T07:45:20.730Z"
   },
   {
    "duration": 229,
    "start_time": "2025-07-07T07:45:40.114Z"
   },
   {
    "duration": 229,
    "start_time": "2025-07-07T07:45:52.003Z"
   },
   {
    "duration": 245,
    "start_time": "2025-07-07T07:46:02.234Z"
   },
   {
    "duration": 489,
    "start_time": "2025-07-07T07:46:58.564Z"
   },
   {
    "duration": 728,
    "start_time": "2025-07-07T07:47:19.202Z"
   },
   {
    "duration": 715,
    "start_time": "2025-07-07T07:47:31.611Z"
   },
   {
    "duration": 800,
    "start_time": "2025-07-07T07:48:32.577Z"
   },
   {
    "duration": 700,
    "start_time": "2025-07-07T07:48:39.223Z"
   },
   {
    "duration": 705,
    "start_time": "2025-07-07T07:48:47.255Z"
   },
   {
    "duration": 718,
    "start_time": "2025-07-07T07:49:22.881Z"
   },
   {
    "duration": 369,
    "start_time": "2025-07-07T07:50:02.485Z"
   },
   {
    "duration": 341,
    "start_time": "2025-07-07T07:50:18.713Z"
   },
   {
    "duration": 742,
    "start_time": "2025-07-07T07:51:59.817Z"
   },
   {
    "duration": 823,
    "start_time": "2025-07-07T07:53:05.403Z"
   },
   {
    "duration": 703,
    "start_time": "2025-07-07T07:53:52.186Z"
   },
   {
    "duration": 62,
    "start_time": "2025-07-07T11:12:32.949Z"
   },
   {
    "duration": 9,
    "start_time": "2025-07-07T11:12:43.327Z"
   },
   {
    "duration": 5201,
    "start_time": "2025-07-07T11:13:00.717Z"
   },
   {
    "duration": 102,
    "start_time": "2025-07-07T11:13:05.920Z"
   },
   {
    "duration": 30,
    "start_time": "2025-07-07T11:13:06.024Z"
   },
   {
    "duration": 40,
    "start_time": "2025-07-07T11:13:06.055Z"
   },
   {
    "duration": 28,
    "start_time": "2025-07-07T11:13:06.097Z"
   },
   {
    "duration": 20,
    "start_time": "2025-07-07T11:13:06.127Z"
   },
   {
    "duration": 108,
    "start_time": "2025-07-07T11:13:06.149Z"
   },
   {
    "duration": 75,
    "start_time": "2025-07-07T11:13:06.259Z"
   },
   {
    "duration": 8,
    "start_time": "2025-07-07T11:13:06.336Z"
   },
   {
    "duration": 43,
    "start_time": "2025-07-07T11:13:06.345Z"
   },
   {
    "duration": 167,
    "start_time": "2025-07-07T11:13:06.389Z"
   },
   {
    "duration": 24,
    "start_time": "2025-07-07T11:13:06.558Z"
   },
   {
    "duration": 21,
    "start_time": "2025-07-07T11:13:06.584Z"
   },
   {
    "duration": 4,
    "start_time": "2025-07-07T11:13:06.608Z"
   },
   {
    "duration": 35,
    "start_time": "2025-07-07T11:13:06.614Z"
   },
   {
    "duration": 16,
    "start_time": "2025-07-07T11:13:06.651Z"
   },
   {
    "duration": 484,
    "start_time": "2025-07-07T11:13:06.672Z"
   },
   {
    "duration": 373,
    "start_time": "2025-07-07T11:13:07.158Z"
   },
   {
    "duration": 595,
    "start_time": "2025-07-07T11:13:07.533Z"
   },
   {
    "duration": 345,
    "start_time": "2025-07-07T11:13:08.130Z"
   },
   {
    "duration": 318,
    "start_time": "2025-07-07T11:13:08.477Z"
   },
   {
    "duration": 472,
    "start_time": "2025-07-07T11:13:08.797Z"
   },
   {
    "duration": 126,
    "start_time": "2025-07-07T11:13:09.275Z"
   },
   {
    "duration": 350,
    "start_time": "2025-07-07T11:13:09.402Z"
   },
   {
    "duration": 373,
    "start_time": "2025-07-07T11:13:09.754Z"
   },
   {
    "duration": 869,
    "start_time": "2025-07-07T11:13:10.129Z"
   },
   {
    "duration": 196,
    "start_time": "2025-07-07T11:13:11.000Z"
   },
   {
    "duration": 781,
    "start_time": "2025-07-07T11:13:11.198Z"
   },
   {
    "duration": 258,
    "start_time": "2025-07-07T11:13:11.981Z"
   },
   {
    "duration": 390,
    "start_time": "2025-07-07T11:13:12.240Z"
   },
   {
    "duration": 179,
    "start_time": "2025-07-07T11:13:12.631Z"
   },
   {
    "duration": 263,
    "start_time": "2025-07-07T11:13:57.506Z"
   },
   {
    "duration": 278,
    "start_time": "2025-07-07T11:15:06.428Z"
   },
   {
    "duration": 401,
    "start_time": "2025-07-07T11:15:32.426Z"
   }
  ],
  "colab": {
   "provenance": []
  },
  "kernelspec": {
   "display_name": "Python 3 (ipykernel)",
   "language": "python",
   "name": "python3"
  },
  "language_info": {
   "codemirror_mode": {
    "name": "ipython",
    "version": 3
   },
   "file_extension": ".py",
   "mimetype": "text/x-python",
   "name": "python",
   "nbconvert_exporter": "python",
   "pygments_lexer": "ipython3",
   "version": "3.9.5"
  },
  "toc": {
   "base_numbering": 1,
   "nav_menu": {},
   "number_sections": true,
   "sideBar": true,
   "skip_h1_title": true,
   "title_cell": "Table of Contents",
   "title_sidebar": "Contents",
   "toc_cell": false,
   "toc_position": {},
   "toc_section_display": true,
   "toc_window_display": true
  }
 },
 "nbformat": 4,
 "nbformat_minor": 5
}
